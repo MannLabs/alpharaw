{
 "cells": [
  {
   "cell_type": "markdown",
   "metadata": {},
   "source": [
    "# Feature Finding\n",
    "\n",
    "## Unit Tests\n",
    "\n",
    "### Centroids"
   ]
  },
  {
   "cell_type": "code",
   "execution_count": null,
   "metadata": {},
   "outputs": [],
   "source": [
    "from alpharaw.feature.centroids import *\n",
    "import numpy as np"
   ]
  },
  {
   "cell_type": "code",
   "execution_count": null,
   "metadata": {},
   "outputs": [],
   "source": [
    "def test_find_centroid_connections():\n",
    "    row_borders = np.array([3, 6, 9])\n",
    "    rowwise_peaks = np.array([3, 3, 3])\n",
    "    max_gap = 2\n",
    "\n",
    "    score = np.full((3,3, max_gap), np.inf)\n",
    "    connections = np.full((3,3, max_gap), -1)\n",
    "\n",
    "    centroids = np.array([10, 20, 30, 10.2, 40.1, 40, 50, 60])\n",
    "    centroid_tol = 0.5*1e6\n",
    "\n",
    "    from_r, from_c, to_r, to_c, score_median, score_std = find_centroid_connections(rowwise_peaks, row_borders, centroids, max_gap, centroid_tol)\n",
    "\n",
    "    assert np.allclose(from_r, np.array([0, 0, 1, 1])) #e.g. 0,0 is connected to 0,1 -> 10 to 10.2\n",
    "    assert np.allclose(from_c, np.array([0, 2, 1, 2]))\n",
    "    assert np.allclose(to_r, np.array([1, 1, 2, 2]))\n",
    "    assert np.allclose(to_c, np.array([0, 1, 0, 0]))\n",
    "\n",
    "test_find_centroid_connections()"
   ]
  },
  {
   "cell_type": "code",
   "execution_count": null,
   "metadata": {},
   "outputs": [],
   "source": [
    "#Sample snippet to show centroid conncetions\n",
    "\n",
    "import matplotlib.pyplot as plt\n",
    "\n",
    "row_borders = np.array([3, 5, 7])\n",
    "rowwise_peaks = np.array([3, 2, 3])\n",
    "max_gap = 2\n",
    "\n",
    "score = np.full((3,3, max_gap), np.inf)\n",
    "connections = np.full((3,3, max_gap), -1)\n",
    "\n",
    "centroids = np.array([10, 20, 30,\n",
    "                      10.2, 20,\n",
    "                      10, 30, 40])\n",
    "\n",
    "centroid_tol = 0.5*1e5\n",
    "\n",
    "from_idx, to_idx, score_median, score_std = connect_centroids(rowwise_peaks, row_borders, centroids, max_gap, centroid_tol)\n",
    "\n",
    "scan_no = np.array([0, 0, 0,\n",
    "                    1, 1,\n",
    "                    2, 2, 2])\n",
    "\n",
    "print(f'Centroid Connections from {from_idx} to {to_idx}')\n",
    "\n",
    "plt.figure(figsize=(5,5))\n",
    "\n",
    "colors = ['r','g','b']\n",
    "\n",
    "for x,y in zip(centroids, scan_no):\n",
    "    plt.plot(x, y, '.', color=colors[y])\n",
    "\n",
    "for i, _ in enumerate(from_idx):\n",
    "    from_ = _\n",
    "    to_ = to_idx[i]\n",
    "    plt.plot([centroids[from_], centroids[to_]], [scan_no[from_], scan_no[to_]], 'k:')\n",
    "    \n",
    "plt.ylabel('scan')\n",
    "plt.xlabel('m/z')\n",
    "plt.ylim(len(row_borders)+1.5, -1.5)\n",
    "plt.title('Peak connections')\n",
    "plt.show()\n",
    "     "
   ]
  },
  {
   "cell_type": "code",
   "execution_count": null,
   "metadata": {},
   "outputs": [],
   "source": [
    "def test_connect_centroids():\n",
    "    row_borders = np.array([3, 6, 9])\n",
    "    rowwise_peaks = np.array([3, 3, 3])\n",
    "    max_gap = 2\n",
    "\n",
    "    score = np.full((3,3, max_gap), np.inf)\n",
    "    connections = np.full((3,3, max_gap), -1)\n",
    "\n",
    "    centroids = np.array([10, 20, 30, 10.2, 20, 10, 30, 40])\n",
    "    centroid_tol = 0.5*1e5\n",
    "\n",
    "    from_idx, to_idx, score_median, score_std = connect_centroids(rowwise_peaks, row_borders, centroids, max_gap, centroid_tol)\n",
    "\n",
    "    assert np.allclose(from_idx, np.array([0, 1, 2]))\n",
    "    assert np.allclose(to_idx, np.array([3, 4, 6]))\n",
    "\n",
    "test_connect_centroids()"
   ]
  },
  {
   "cell_type": "markdown",
   "metadata": {},
   "source": [
    "### Hills "
   ]
  },
  {
   "cell_type": "code",
   "execution_count": null,
   "metadata": {},
   "outputs": [],
   "source": [
    "from alpharaw.feature.hills import *"
   ]
  },
  {
   "cell_type": "code",
   "execution_count": null,
   "metadata": {},
   "outputs": [],
   "source": [
    "def test_fast_minima():\n",
    "    assert fast_minima(np.array([3,2,1,0,1,2,3])) == 3\n",
    "    assert fast_minima(np.array([4,3,2,1,0,1,2])) == 4\n",
    "    assert len(fast_minima(np.array([5,4,3,2,1,0,1]))) == 0\n",
    "    assert len(fast_minima(np.array([6,5,4,3,2,1,0]))) == 0\n",
    "\n",
    "test_fast_minima()"
   ]
  },
  {
   "cell_type": "markdown",
   "metadata": {},
   "source": [
    "### Isotope Patterns"
   ]
  },
  {
   "cell_type": "code",
   "execution_count": null,
   "metadata": {},
   "outputs": [],
   "source": [
    "from alpharaw.feature.isotope_pattern import *"
   ]
  },
  {
   "cell_type": "markdown",
   "metadata": {},
   "source": []
  },
  {
   "cell_type": "code",
   "execution_count": null,
   "metadata": {},
   "outputs": [],
   "source": [
    "def test_check_isotope_pattern():\n",
    "    charge = 1\n",
    "\n",
    "    mass1, delta_mass1 = 100, 0.1\n",
    "    mass2, delta_mass2 = 101.1, 0.05\n",
    "\n",
    "    assert check_isotope_pattern(mass1, mass2, delta_mass1, delta_mass2, charge) == True\n",
    "\n",
    "    mass2, delta_mass2 = 102.1, 0.05\n",
    "\n",
    "    assert check_isotope_pattern(mass1, mass2, delta_mass1, delta_mass2, charge) == False\n",
    "\n",
    "test_check_isotope_pattern()"
   ]
  },
  {
   "cell_type": "markdown",
   "metadata": {},
   "source": [
    "## Wrapper"
   ]
  },
  {
   "cell_type": "code",
   "execution_count": null,
   "metadata": {},
   "outputs": [],
   "source": [
    "from alpharaw.feature.finding import find\n",
    "from alpharaw.thermo import ThermoRawData\n",
    "import logging\n",
    "\n",
    "file_path = './test_data/iRT.raw' #using file from https://datashare.biochem.mpg.de/s/PQl8nyqfHVZZHte\n",
    "\n",
    "msdata = ThermoRawData()\n",
    "msdata.import_raw(file_path)\n",
    "\n",
    "\n",
    "logger = logging.getLogger()\n",
    "logger.setLevel(logging.INFO)\n",
    "\n",
    "spectrum_df = msdata.spectrum_df\n",
    "peak_df = msdata.peak_df\n",
    "\n",
    "preview = -1\n",
    "spectrum_df_ = spectrum_df.iloc[:preview]\n",
    "msdata_df_ = msdata.peak_df.iloc[:spectrum_df.iloc[:preview]['peak_stop_idx'].iloc[-1]]\n",
    "\n",
    "feature_df = find(spectrum_df_, msdata_df_)\n",
    "\n",
    "display(feature_df)"
   ]
  }
 ],
 "metadata": {
  "kernelspec": {
   "display_name": "alphabase",
   "language": "python",
   "name": "python3"
  },
  "language_info": {
   "codemirror_mode": {
    "name": "ipython",
    "version": 3
   },
   "file_extension": ".py",
   "mimetype": "text/x-python",
   "name": "python",
   "nbconvert_exporter": "python",
   "pygments_lexer": "ipython3",
   "version": "3.9.12"
  }
 },
 "nbformat": 4,
 "nbformat_minor": 2
}
