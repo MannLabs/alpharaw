{
 "cells": [
  {
   "cell_type": "code",
   "execution_count": 1,
   "metadata": {},
   "outputs": [],
   "source": [
    "%reload_ext autoreload\n",
    "%autoreload 2"
   ]
  },
  {
   "cell_type": "code",
   "execution_count": 2,
   "metadata": {},
   "outputs": [],
   "source": [
    "from alpharaw.sciex import SciexWiffData\n",
    "import numpy as np"
   ]
  },
  {
   "cell_type": "code",
   "execution_count": 3,
   "metadata": {},
   "outputs": [],
   "source": [
    "def get_peak_lists(starts, ends, peak_df):\n",
    "    mass_list = [peak_df.mz.values[start:end].tolist() for start,end in zip(starts,ends)]\n",
    "    inten_list = [peak_df.intensity.values[start:end].tolist() for start,end in zip(starts,ends)]\n",
    "    return mass_list, inten_list\n",
    "\n",
    "def extract_ms1(raw_data:SciexWiffData, query_data:dict):\n",
    "    spec_df = raw_data.spectrum_df.query(\"ms_level==1\")\n",
    "    scans = spec_df.spec_idx.values\n",
    "    rts = spec_df.rt.values\n",
    "    ms_levels = spec_df.ms_level.values\n",
    "\n",
    "    mass_list_ms1, int_list_ms1 = get_peak_lists(\n",
    "        spec_df.peak_start_idx.values, \n",
    "        spec_df.peak_end_idx.values,\n",
    "        raw_data.peak_df\n",
    "    )\n",
    "\n",
    "    query_data[\"scan_list_ms1\"] = scans\n",
    "    query_data[\"rt_list_ms1\"] = rts\n",
    "    query_data[\"mass_list_ms1\"] = np.array(mass_list_ms1, dtype=object)\n",
    "    query_data[\"int_list_ms1\"] = np.array(int_list_ms1, dtype=object)\n",
    "    query_data[\"ms_list_ms1\"] = ms_levels\n",
    "\n",
    "def extract_ms2(raw_data:SciexWiffData, query_data:dict):\n",
    "    spec_df = raw_data.spectrum_df.query(\"ms_level==2\")\n",
    "    scans = spec_df.spec_idx.values\n",
    "    rts = spec_df.rt.values\n",
    "    ms_levels = spec_df.ms_level.values\n",
    "    mono_mzs2 = spec_df.precursor_mz.values\n",
    "    charges = spec_df.charge.values\n",
    "    charges[charges<=0] = 2\n",
    "\n",
    "\n",
    "    mass_list_ms2, int_list_ms2 = get_peak_lists(\n",
    "        spec_df.peak_start_idx.values, \n",
    "        spec_df.peak_end_idx.values,\n",
    "        raw_data.peak_df\n",
    "    )\n",
    "\n",
    "    query_data[\"scan_list_ms2\"] = scans\n",
    "    query_data[\"rt_list_ms2\"] = rts\n",
    "    query_data[\"mass_list_ms2\"] = mass_list_ms2\n",
    "    query_data[\"int_list_ms2\"] = int_list_ms2\n",
    "    query_data[\"ms_list_ms2\"] = ms_levels\n",
    "    query_data[\"prec_mass_list2\"] = mass_list_ms2\n",
    "    query_data[\"mono_mzs2\"] = mono_mzs2\n",
    "    #     TODO: Refactor charge2 to be consistent: charge_ms2\n",
    "    query_data[\"charge2\"] = charges\n",
    "\n",
    "def import_sciex_as_alphapept(sciex_wiff):\n",
    "    raw_data = SciexWiffData()\n",
    "    raw_data.import_raw(sciex_wiff)\n",
    "\n",
    "    query_data = {}\n",
    "    extract_ms1(raw_data, query_data)\n",
    "    extract_ms2(raw_data, query_data)\n",
    "\n",
    "    return query_data, raw_data.creation_time\n"
   ]
  },
  {
   "cell_type": "code",
   "execution_count": 4,
   "metadata": {},
   "outputs": [
    {
     "data": {
      "text/plain": [
       "13"
      ]
     },
     "execution_count": 4,
     "metadata": {},
     "output_type": "execute_result"
    }
   ],
   "source": [
    "query_data, creation_time = import_sciex_as_alphapept(\"/Users/zengwenfeng/Workspace/Data/zenoTOF/test_data/HeLa-500ng-0807Prep-IDA-Top50-10ms-GS2_60_09072021-60SPD_01.wiff\")\n",
    "len(query_data)"
   ]
  },
  {
   "cell_type": "code",
   "execution_count": null,
   "metadata": {},
   "outputs": [],
   "source": []
  }
 ],
 "metadata": {
  "kernelspec": {
   "display_name": "Python 3.8.3 ('base')",
   "language": "python",
   "name": "python3"
  },
  "language_info": {
   "codemirror_mode": {
    "name": "ipython",
    "version": 3
   },
   "file_extension": ".py",
   "mimetype": "text/x-python",
   "name": "python",
   "nbconvert_exporter": "python",
   "pygments_lexer": "ipython3",
   "version": "3.8.3"
  },
  "orig_nbformat": 4,
  "vscode": {
   "interpreter": {
    "hash": "8a3b27e141e49c996c9b863f8707e97aabd49c4a7e8445b9b783b34e4a21a9b2"
   }
  }
 },
 "nbformat": 4,
 "nbformat_minor": 2
}
