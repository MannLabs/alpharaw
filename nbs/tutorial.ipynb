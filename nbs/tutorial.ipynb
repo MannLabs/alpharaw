{
 "cells": [
  {
   "cell_type": "markdown",
   "metadata": {},
   "source": [
    "# HDF5 structure\n",
    "\n",
    "Every AlphaRaw HDF5 file should adhere to the following structure:\n",
    "\n",
    "* /\n",
    "    * *alpharaw_version*: str\n",
    "    * *compression*: str\n",
    "    * *chunk_size*: int\n",
    "    * *creation_timestamp*: date\n",
    "    * **raw**\n",
    "        * *vendor*: str\n",
    "        * *instrument_name*: str\n",
    "        * *acquisition_mode*: str\n",
    "        * *sample_name*: str\n",
    "        * *original_raw_data_file_name*: path\n",
    "        * *acquisition_timestamp*: date\n",
    "        * *acquisition_software*: str\n",
    "        * **reference_dimensions**\n",
    "            * *number_of_dimensions*: int\n",
    "            * rt_values: float64[:]\n",
    "                * *dimension_index*: int8\n",
    "                * *cyclic*: bool\n",
    "            * mobility_values: float64[:]\n",
    "                * *dimension_index*: int8\n",
    "                * *cyclic*: bool\n",
    "            * quad_mz_values: float64[:, 2]\n",
    "                * *dimension_index*: int8\n",
    "                * *cyclic*: bool   \n",
    "        * **indices**\n",
    "            * spectrum_offsets: int64[:]\n",
    "            * dimension_order: int8[:]\n",
    "        * **measurements**\n",
    "            * *detector_event_count*: int64\n",
    "            * intensity_indices: uint16[:]\n",
    "                * *min*: float64\n",
    "                * *max*: float64\n",
    "                * *scale*: str \n",
    "            * mz_indices: uint32[:]\n",
    "                * *min*: float64\n",
    "                * *max*: float64\n",
    "                * *scale*: str \n",
    "    * **centroided**\n",
    "        * *paramaters*: ?\n",
    "    * **features**\n",
    "        * *paramaters*: ?\n",
    "        \n",
    "    "
   ]
  },
  {
   "cell_type": "code",
   "execution_count": 1,
   "metadata": {},
   "outputs": [],
   "source": [
    "import numba\n",
    "import numpy as np\n",
    "\n",
    "def mz_index_to_value_factory(\n",
    "    min_mz: float = 100.0,\n",
    "    max_mz: float = 1700.0,\n",
    "    length: int = 2**32,\n",
    "    scale: str = \"exponential\",\n",
    "    custom_array: np.ndarray = None,\n",
    ") -> float:\n",
    "    if custom_array is not None:\n",
    "        def func(mz_index):\n",
    "            return custom_array[mz_index]\n",
    "    elif scale in [\"exponential\", \"exp\", \"expx\"]:\n",
    "        def func(mz_index):\n",
    "            relative_mz_index = mz_index / (length - 1)\n",
    "            return min_mz * (max_mz / min_mz)**(relative_mz_index)\n",
    "    elif scale in [\"lin\", \"linear\", \"x\"]:\n",
    "        def func(mz_index):\n",
    "            relative_mz_index = mz_index / (length - 1)\n",
    "            return min_mz + (relative_mz_index) * (max_mz - min_mz)\n",
    "    elif scale in [\"quadratic\", \"x2\"]:\n",
    "        def func(mz_index):\n",
    "            relative_mz_index = mz_index / (length - 1)\n",
    "            return (\n",
    "                np.sqrt(min_mz) + (np.sqrt(max_mz) - np.sqrt(min_mz)) * relative_mz_index\n",
    "            )**2\n",
    "    else:\n",
    "        raise ValueError(f\"Scale {scale} is invalid\")\n",
    "    return numba.vectorize(nopython=True)(func)"
   ]
  },
  {
   "cell_type": "code",
   "execution_count": 2,
   "metadata": {},
   "outputs": [
    {
     "data": {
      "text/plain": [
       "(100.0, 100.00000037252903, 0.00372529029152302)"
      ]
     },
     "execution_count": 2,
     "metadata": {},
     "output_type": "execute_result"
    }
   ],
   "source": [
    "mz_index_to_value = mz_index_to_value_factory(scale=\"linear\")\n",
    "a = mz_index_to_value(0)\n",
    "b = mz_index_to_value(1)\n",
    "a, b, 2 * (b - a) / (a + b) * 10**6"
   ]
  },
  {
   "cell_type": "code",
   "execution_count": 3,
   "metadata": {},
   "outputs": [
    {
     "data": {
      "text/plain": [
       "(100.0, 100.00000014543095, 0.0014543094540270048)"
      ]
     },
     "execution_count": 3,
     "metadata": {},
     "output_type": "execute_result"
    }
   ],
   "source": [
    "mz_index_to_value = mz_index_to_value_factory(scale=\"quadratic\")\n",
    "a = mz_index_to_value(0)\n",
    "b = mz_index_to_value(1)\n",
    "a, b, 2 * (b - a) / (a + b) * 10**6"
   ]
  },
  {
   "cell_type": "code",
   "execution_count": 4,
   "metadata": {},
   "outputs": [
    {
     "data": {
      "text/plain": [
       "(100.0, 100.0000000659659, 0.0006596590649321786)"
      ]
     },
     "execution_count": 4,
     "metadata": {},
     "output_type": "execute_result"
    }
   ],
   "source": [
    "mz_index_to_value = mz_index_to_value_factory(scale=\"exponential\")\n",
    "a = mz_index_to_value(0)\n",
    "b = mz_index_to_value(1)\n",
    "a, b, 2 * (b - a) / (a + b) * 10**6"
   ]
  },
  {
   "cell_type": "code",
   "execution_count": 5,
   "metadata": {},
   "outputs": [
    {
     "data": {
      "text/plain": [
       "(100.0, 100.00400001000003, 39.999300012270105)"
      ]
     },
     "execution_count": 5,
     "metadata": {},
     "output_type": "execute_result"
    }
   ],
   "source": [
    "size = 400000\n",
    "custom_array = np.linspace(100, 1700, size)\n",
    "mz_index_to_value = mz_index_to_value_factory(custom_array=custom_array)\n",
    "a = mz_index_to_value(0)\n",
    "b = mz_index_to_value(1)\n",
    "a, b, 2 * (b - a) / (a + b) * 10**6"
   ]
  },
  {
   "cell_type": "code",
   "execution_count": 6,
   "metadata": {},
   "outputs": [
    {
     "data": {
      "text/plain": [
       "(1699.999999627471, 1700.0, 0.00021913472346294616)"
      ]
     },
     "execution_count": 6,
     "metadata": {},
     "output_type": "execute_result"
    }
   ],
   "source": [
    "mz_index_to_value = mz_index_to_value_factory(scale=\"linear\")\n",
    "a, b = mz_index_to_value(np.array([2**32 - 2, 2**32 - 1], dtype=np.uint32))\n",
    "a, b, 2 * (b - a) / (a + b) * 10**6"
   ]
  },
  {
   "cell_type": "code",
   "execution_count": 7,
   "metadata": {},
   "outputs": [
    {
     "data": {
      "text/plain": [
       "(1699.999999400373, 1700.0000000000002, 0.0003527218402944335)"
      ]
     },
     "execution_count": 7,
     "metadata": {},
     "output_type": "execute_result"
    }
   ],
   "source": [
    "mz_index_to_value = mz_index_to_value_factory(scale=\"quadratic\")\n",
    "a, b = mz_index_to_value(np.array([2**32 - 2, 2**32 - 1], dtype=np.uint32))\n",
    "a, b, 2 * (b - a) / (a + b) * 10**6"
   ]
  },
  {
   "cell_type": "code",
   "execution_count": 8,
   "metadata": {},
   "outputs": [
    {
     "data": {
      "text/plain": [
       "(1699.9999988785798, 1700.0, 0.0006596589148994551)"
      ]
     },
     "execution_count": 8,
     "metadata": {},
     "output_type": "execute_result"
    }
   ],
   "source": [
    "mz_index_to_value = mz_index_to_value_factory(scale=\"exponential\")\n",
    "a, b = mz_index_to_value(np.array([2**32 - 2, 2**32 - 1], dtype=np.uint32))\n",
    "a, b, 2 * (b - a) / (a + b) * 10**6"
   ]
  },
  {
   "cell_type": "code",
   "execution_count": 9,
   "metadata": {},
   "outputs": [
    {
     "data": {
      "text/plain": [
       "(1699.99599999, 1700.0, 2.352949827022618)"
      ]
     },
     "execution_count": 9,
     "metadata": {},
     "output_type": "execute_result"
    }
   ],
   "source": [
    "size = 400000\n",
    "custom_array = np.linspace(100, 1700, size)\n",
    "mz_index_to_value = mz_index_to_value_factory(custom_array=custom_array)\n",
    "a, b = mz_index_to_value(np.array([size - 2, size - 1], dtype=np.uint32))\n",
    "a, b, 2 * (b - a) / (a + b) * 10**6"
   ]
  }
 ],
 "metadata": {
  "kernelspec": {
   "display_name": "Python [conda env:alpharaw]",
   "language": "python",
   "name": "conda-env-alpharaw-py"
  },
  "language_info": {
   "codemirror_mode": {
    "name": "ipython",
    "version": 3
   },
   "file_extension": ".py",
   "mimetype": "text/x-python",
   "name": "python",
   "nbconvert_exporter": "python",
   "pygments_lexer": "ipython3",
   "version": "3.8.11"
  },
  "toc": {
   "base_numbering": 1,
   "nav_menu": {},
   "number_sections": true,
   "sideBar": true,
   "skip_h1_title": false,
   "title_cell": "Table of Contents",
   "title_sidebar": "Contents",
   "toc_cell": false,
   "toc_position": {},
   "toc_section_display": true,
   "toc_window_display": false
  }
 },
 "nbformat": 4,
 "nbformat_minor": 4
}
