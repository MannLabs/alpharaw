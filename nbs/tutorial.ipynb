{
 "cells": [
  {
   "cell_type": "markdown",
   "metadata": {},
   "source": [
    "# HDF5 structure\n",
    "\n",
    "Every AlphaRaw HDF5 file should adhere to the following structure:\n",
    "\n",
    "* \\\n",
    "* attrs\n",
    "    * alpharaw_version: str\n",
    "    * compressed_arrays: bool\n",
    "    * vendor: str\n",
    "    * instrument_name: str\n",
    "    * acquisition_mode: str\n",
    "    * sample_name: str\n",
    "* raw\n",
    "    * attrs\n",
    "        * original_raw_data_file_name: path\n",
    "        * acquisition_time: date\n",
    "        * detector_event_count: int64\n",
    "        * acquisition_software: str\n",
    "    * reference_dimensions\n",
    "        * attrs\n",
    "            * number_of_dimensions: int\n",
    "        * rt_values: float64[:]\n",
    "            * attrs\n",
    "                * min: float64\n",
    "                * max: float64\n",
    "                * dimension_index: int8\n",
    "        * mobility_values: float64[:]\n",
    "            * attrs\n",
    "                * min: float64\n",
    "                * max: float64\n",
    "                * dimension_index: int8\n",
    "        * quad_mz_values: float64[:, 2]\n",
    "            * attrs\n",
    "                * min: float64\n",
    "                * max: float64\n",
    "                * dimension_index: int8\n",
    "        * mz_values: float64[:]\n",
    "            * attrs\n",
    "                * min: float64\n",
    "                * max: float64\n",
    "                * dimension_index: int8\n",
    "        * intensity_values: float64[:]\n",
    "            * attrs\n",
    "                * min: float64\n",
    "                * max: float64\n",
    "                * dimension_index: int8     \n",
    "    * indices\n",
    "        * spectrum_offsets: int64[:]\n",
    "        * quad_offsets: int64[:]\n",
    "        * dimension_order: int8[:]\n",
    "* centroided\n",
    "    * attrs\n",
    "* features\n",
    "    * attrs\n",
    "        \n",
    "    "
   ]
  },
  {
   "cell_type": "code",
   "execution_count": null,
   "metadata": {},
   "outputs": [],
   "source": []
  }
 ],
 "metadata": {
  "kernelspec": {
   "display_name": "Python [conda env:alpharaw]",
   "language": "python",
   "name": "conda-env-alpharaw-py"
  },
  "language_info": {
   "codemirror_mode": {
    "name": "ipython",
    "version": 3
   },
   "file_extension": ".py",
   "mimetype": "text/x-python",
   "name": "python",
   "nbconvert_exporter": "python",
   "pygments_lexer": "ipython3",
   "version": "3.8.11"
  },
  "toc": {
   "base_numbering": 1,
   "nav_menu": {},
   "number_sections": true,
   "sideBar": true,
   "skip_h1_title": false,
   "title_cell": "Table of Contents",
   "title_sidebar": "Contents",
   "toc_cell": false,
   "toc_position": {},
   "toc_section_display": true,
   "toc_window_display": false
  }
 },
 "nbformat": 4,
 "nbformat_minor": 4
}
