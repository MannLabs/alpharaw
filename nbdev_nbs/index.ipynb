{
 "cells": [
  {
   "cell_type": "markdown",
   "metadata": {},
   "source": [
    "# AlphaRaw"
   ]
  },
  {
   "cell_type": "markdown",
   "metadata": {},
   "source": [
    "![Pip installation](https://github.com/MannLabs/alpharaw/workflows/Default%20installation%20and%20tests/badge.svg)\n",
    "![PyPi releases](https://github.com/MannLabs/alpharaw/workflows/Publish%20on%20PyPi%20and%20release%20on%20GitHub/badge.svg)\n",
    "<a href=\"https://pypi.org/project/alpharaw\" alt=\"pypi\">\n",
    "    <img src=\"https://img.shields.io/pypi/v/alpharaw\" /></a>\n",
    "<a href=\"https://pypi.org/project/alpharaw\" alt=\"release\">\n",
    "    <img src=\"https://img.shields.io/pypi/dm/alpharaw?color=blue&label=pip%20downloads\"/></a>\n",
    "<img src=\"https://img.shields.io/pypi/pyversions/alpharaw\"/>\n",
    "<img src=\"https://img.shields.io/github/languages/code-size/mannlabs/alpharaw\"/>"
   ]
  },
  {
   "cell_type": "markdown",
   "metadata": {},
   "source": [
    "## About\n",
    "\n",
    "An open-source Python package of the AlphaPept ecosystem from the [Mann Labs at the Max Planck Institute of Biochemistry](https://www.biochem.mpg.de/mann) to unify raw MS data accession and storage. To enable all hyperlinks in this document, please view it at [GitHub](https://github.com/MannLabs/alpharaw).\n",
    "\n",
    "* [**About**](#about)\n",
    "* [**License**](#license)\n",
    "* [**Installation**](#installation)\n",
    "  * [**Pip installer**](#pip)\n",
    "  * [**Developer installer**](#developer)\n",
    "* [**Usage**](#usage)\n",
    "  * [**Python and jupyter notebooks**](#python-and-jupyter-notebooks)\n",
    "* [**Troubleshooting**](#troubleshooting)\n",
    "* [**Citations**](#citations)\n",
    "* [**How to contribute**](#how-to-contribute)\n",
    "* [**Changelog**](#changelog)\n",
    "\n",
    "---"
   ]
  },
  {
   "cell_type": "markdown",
   "metadata": {},
   "source": [
    "## License\n",
    "\n",
    "AlphaRaw was developed by the [Mann Labs at the Max Planck Institute of Biochemistry](https://www.biochem.mpg.de/mann) and is freely available with an [Apache License](LICENSE.txt). External Python packages (available in the [requirements](requirements) folder) have their own licenses, which can be consulted on their respective websites.\n",
    "\n",
    "---"
   ]
  },
  {
   "cell_type": "markdown",
   "metadata": {},
   "source": [
    "## Installation\n",
    "\n",
    "Pythonnet must be installed to access Thermo or Sciex raw data.\n",
    "\n",
    "#### For Windows\n",
    "\n",
    "Pythonnet will be automatically installed via pip.\n",
    "\n",
    "#### For Linux\n",
    "\n",
    "1. Install Mono from mono-project website [Mono Linux](https://www.mono-project.com/download/stable/#download-lin). NOTE, the installed mono version should be at least 6.10, which requires you to add the ppa to your trusted sources!\n",
    "2. Install pythonnet with `pip install pythonnet`.\n",
    "\n",
    "#### For MacOS\n",
    "\n",
    "1. Install [brew](https://brew.sh) and pkg-config: `brew install pkg-config` 3. Install Mono from mono-project website [Mono Mac](https://www.mono-project.com/download/stable/)\n",
    "2. Register the Mono-Path to your system:\n",
    "For macOS Catalina, open the configuration of zsh via the terminal:\n",
    "* Type `nano ~/.zshrc` to open the configuration of the terminal\n",
    "* Append the mono path to your `PKG_CONFIG_PATH`: `export PKG_CONFIG_PATH=/usr/local/lib/pkgconfig:/usr/lib/pkgconfig:/Library/Frameworks/Mono.framework/Versions/Current/lib/pkgconfig:$PKG_CONFIG_PATH`.\n",
    "* Save everything and execute `. ~/.zshrc` \n",
    "3. Install pythonnet with `pip install pythonnet`.\n",
    "\n",
    "---\n",
    "\n",
    "AlphaRaw can be installed and used on all major operating systems (Windows, macOS and Linux).\n",
    "There are three different types of installation possible:\n",
    "\n",
    "* [**Pip installer:**](#pip) Choose this installation if you want to use AlphaRaw as a Python package in an existing Python 3.8 environment (e.g. a Jupyter notebook).\n",
    "* [**Developer installer:**](#developer) Choose this installation if you are familiar with CLI tools, [conda](https://docs.conda.io/en/latest/) and Python. This installation allows access to all available features of AlphaRaw and even allows to modify its source code directly. Generally, the developer version of AlphaRaw outperforms the precompiled versions which makes this the installation of choice for high-throughput experiments."
   ]
  },
  {
   "cell_type": "markdown",
   "metadata": {},
   "source": [
    "### Pip\n",
    "\n",
    "AlphaRaw can be installed in an existing Python 3.8 environment with a single `bash` command. *This `bash` command can also be run directly from within a Jupyter notebook by prepending it with a `!`*:\n",
    "\n",
    "```bash\n",
    "pip install alpharaw\n",
    "```\n",
    "\n",
    "Installing AlphaRaw like this avoids conflicts when integrating it in other tools, as this does not enforce strict versioning of dependancies. However, if new versions of dependancies are released, they are not guaranteed to be fully compatible with AlphaRaw. While this should only occur in rare cases where dependencies are not backwards compatible, you can always force AlphaRaw to use dependancy versions which are known to be compatible with:\n",
    "\n",
    "```bash\n",
    "pip install \"alpharaw[stable]\"\n",
    "```\n",
    "\n",
    "NOTE: You might need to run `pip install pip==21.0` before installing AlphaRaw like this. Also note the double quotes `\"`.\n",
    "\n",
    "For those who are really adventurous, it is also possible to directly install any branch (e.g. `@development`) with any extras (e.g. `#egg=alpharaw[stable,development-stable]`) from GitHub with e.g.\n",
    "\n",
    "```bash\n",
    "pip install \"git+https://github.com/MannLabs/alpharaw.git@development#egg=alpharaw[stable,development-stable]\"\n",
    "```\n"
   ]
  },
  {
   "cell_type": "markdown",
   "metadata": {},
   "source": [
    "### Developer\n",
    "\n",
    "AlphaRaw can also be installed in editable (i.e. developer) mode with a few `bash` commands. This allows to fully customize the software and even modify the source code to your specific needs. When an editable Python package is installed, its source code is stored in a transparent location of your choice. While optional, it is advised to first (create and) navigate to e.g. a general software folder:\n",
    "\n",
    "```bash\n",
    "mkdir ~/folder/where/to/install/software\n",
    "cd ~/folder/where/to/install/software\n",
    "```\n",
    "\n",
    "***The following commands assume you do not perform any additional `cd` commands anymore***.\n",
    "\n",
    "Next, download the AlphaRaw repository from GitHub either directly or with a `git` command. This creates a new AlphaRaw subfolder in your current directory.\n",
    "\n",
    "```bash\n",
    "git clone https://github.com/MannLabs/alpharaw.git\n",
    "```\n",
    "\n",
    "For any Python package, it is highly recommended to use a separate [conda virtual environment](https://docs.conda.io/en/latest/), as otherwise *dependancy conflicts can occur with already existing packages*.\n",
    "\n",
    "```bash\n",
    "conda create --name alpharaw python=3.8 -y\n",
    "conda activate alpharaw\n",
    "```\n",
    "\n",
    "Finally, AlphaRaw and all its [dependancies](requirements) need to be installed. To take advantage of all features and allow development (with the `-e` flag), this is best done by also installing the [development dependencies](requirements/requirements_development.txt) instead of only the [core dependencies](requirements/requirements.txt):\n",
    "\n",
    "```bash\n",
    "pip install -e \"./alpharaw[development]\"\n",
    "```\n",
    "\n",
    "By default this installs loose dependancies (no explicit versioning), although it is also possible to use stable dependencies (e.g. `pip install -e \"./alpharaw[stable,development-stable]\"`).\n",
    "\n",
    "***By using the editable flag `-e`, all modifications to the [AlphaRaw source code folder](alpharaw) are directly reflected when running AlphaRaw. Note that the AlphaRaw folder cannot be moved and/or renamed if an editable version is installed.***\n",
    "\n",
    "---"
   ]
  },
  {
   "cell_type": "markdown",
   "metadata": {},
   "source": [
    "## Usage\n",
    "\n",
    "* [**Python**](#python-and-jupyter-notebooks)\n",
    "\n",
    "NOTE: The first time you use a fresh installation of AlphaRaw, it is often quite slow because some functions might still need compilation on your local operating system and architecture. Subsequent use should be a lot faster.\n",
    "\n",
    "### Python and Jupyter notebooks\n",
    "\n",
    "AlphaRaw can be imported as a Python package into any Python script or notebook with the command `import alpharaw`.\n",
    "\n",
    "A brief [Jupyter notebook tutorial](nbs/tutorial.ipynb) on how to use the API is also present in the [nbs folder](nbs).\n",
    "\n",
    "---"
   ]
  },
  {
   "cell_type": "markdown",
   "metadata": {},
   "source": [
    "## Troubleshooting\n",
    "\n",
    "In case of issues, check out the following:\n",
    "\n",
    "* [Issues](https://github.com/MannLabs/alpharaw/issues): Try a few different search terms to find out if a similar problem has been encountered before\n",
    "* [Discussions](https://github.com/MannLabs/alpharaw/discussions): Check if your problem or feature requests has been discussed before.\n",
    "\n",
    "---"
   ]
  },
  {
   "cell_type": "markdown",
   "metadata": {},
   "source": [
    "## Citations\n",
    "\n",
    "There are currently no plans to draft a manuscript.\n",
    "\n",
    "---"
   ]
  },
  {
   "cell_type": "markdown",
   "metadata": {},
   "source": [
    "## How to contribute\n",
    "\n",
    "If you like this software, you can give us a [star](https://github.com/MannLabs/alpharaw/stargazers) to boost our visibility! All direct contributions are also welcome. Feel free to post a new [issue](https://github.com/MannLabs/alpharaw/issues) or clone the repository and create a [pull request](https://github.com/MannLabs/alpharaw/pulls) with a new branch. For an even more interactive participation, check out the [discussions](https://github.com/MannLabs/alpharaw/discussions) and the [the Contributors License Agreement](misc/CLA.md).\n",
    "\n",
    "---"
   ]
  },
  {
   "cell_type": "markdown",
   "metadata": {},
   "source": [
    "## Changelog\n",
    "\n",
    "See the [HISTORY.md](HISTORY.md) for a full overview of the changes made in each version.\n"
   ]
  },
  {
   "cell_type": "code",
   "execution_count": null,
   "metadata": {},
   "outputs": [],
   "source": []
  }
 ],
 "metadata": {
  "kernelspec": {
   "display_name": "Python 3.8.3 ('base')",
   "language": "python",
   "name": "python3"
  }
 },
 "nbformat": 4,
 "nbformat_minor": 2
}
