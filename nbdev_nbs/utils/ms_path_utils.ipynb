{
 "cells": [
  {
   "cell_type": "code",
   "execution_count": null,
   "metadata": {},
   "outputs": [],
   "source": [
    "#| default_exp utils.ms_path_utils"
   ]
  },
  {
   "cell_type": "code",
   "execution_count": null,
   "metadata": {},
   "outputs": [],
   "source": [
    "#| export\n",
    "import os"
   ]
  },
  {
   "cell_type": "code",
   "execution_count": null,
   "metadata": {},
   "outputs": [],
   "source": [
    "#| export\n",
    "_special_ms_exts:list = [\n",
    "    '.ms_data.hdf', # alphapept\n",
    "    '.tims.hdf', # alphatims (from alpharaw)\n",
    "    '.tims.hdf5', # alphatims (from alpharaw)\n",
    "    '.atms.hdf', # alphatims (from alpharaw)\n",
    "    '.atms.hdf5', # alphatims (from alpharaw)\n",
    "    '_hcdft.mgf', # p\n",
    "]\n",
    "def parse_ms_files_to_dict(\n",
    "    ms_file_list:list,\n",
    "    special_ms_exts:list = _special_ms_exts\n",
    ")->dict:\n",
    "    \"\"\"\n",
    "    Parse spectrum file paths into a dict:\n",
    "        \"/Users/xxx/raw_name1.raw\" -> {\"raw_name1\":\"/Users/xxx/raw_name1.raw\"}\n",
    "\n",
    "    Parameters\n",
    "    ----------\n",
    "    spectrum_file_list : list\n",
    "        File path list\n",
    "\n",
    "    special_ms_exts : list, optional\n",
    "        Special extension cases for some MS files \n",
    "        which contains multiple dot (`.`) after raw_name.\n",
    "        `_special_ms_exts` by default\n",
    "\n",
    "    Returns\n",
    "    -------\n",
    "    dict\n",
    "        {\"raw_name1\" : \"/Users/xxx/raw_name1.raw\", ...}\n",
    "    \"\"\"\n",
    "\n",
    "    ms_file_dict = {}\n",
    "    for ms_file in ms_file_list:\n",
    "        raw_name = os.path.basename(ms_file)\n",
    "        lower_name = raw_name.lower()\n",
    "        for _ext in _special_ms_exts:\n",
    "            if lower_name.endswith(_ext.lower()):\n",
    "                raw_name = raw_name[:-len(_ext)]\n",
    "                break\n",
    "        if len(raw_name) == len(lower_name):\n",
    "            raw_name = os.path.splitext(raw_name)[0]\n",
    "        ms_file_dict[raw_name] = ms_file\n",
    "    return ms_file_dict"
   ]
  }
 ],
 "metadata": {
  "kernelspec": {
   "display_name": "Python 3.8.3 ('base')",
   "language": "python",
   "name": "python3"
  }
 },
 "nbformat": 4,
 "nbformat_minor": 2
}
