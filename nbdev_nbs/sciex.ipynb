{
 "cells": [
  {
   "cell_type": "code",
   "execution_count": null,
   "metadata": {},
   "outputs": [],
   "source": [
    "#| default_exp sciex"
   ]
  },
  {
   "cell_type": "markdown",
   "metadata": {},
   "source": [
    "# Sciex Wiff Data"
   ]
  },
  {
   "cell_type": "code",
   "execution_count": null,
   "metadata": {},
   "outputs": [],
   "source": [
    "#| export\n",
    "import numpy as np\n",
    "import pandas as pd\n",
    "import os\n",
    "import alpharaw.raw_access.pysciexwifffilereader as pysciexwifffilereader\n",
    "from alpharaw.ms_data_base import MSData_Base\n",
    "from alpharaw.ms_data_base import ms_reader_provider"
   ]
  },
  {
   "cell_type": "code",
   "execution_count": null,
   "metadata": {},
   "outputs": [],
   "source": [
    "#| export\n",
    "    \n",
    "class SciexWiffData(MSData_Base):\n",
    "    \"\"\"\n",
    "    Loading Sciex Wiff data as MSData_Base data structure.\n",
    "\n",
    "    Parameters\n",
    "    ----------\n",
    "    centroided : bool, optional\n",
    "        if peaks will be centroided after loading, \n",
    "        by default True\n",
    "    \"\"\"\n",
    "    def __init__(self, centroided:bool=True):\n",
    "        super().__init__(centroided)\n",
    "        self.centroid_mz_tol = 0.06\n",
    "        self.ignore_empty_scans = True\n",
    "        self.keep_k_peaks_per_spec = 2000\n",
    "        self.sample_id = 0\n",
    "        self.file_type = 'sciex'\n",
    "\n",
    "    def _import(self,\n",
    "        _wiff_file_path:str\n",
    "    )->dict:\n",
    "        wiff_reader = pysciexwifffilereader.WillFileReader(\n",
    "            _wiff_file_path\n",
    "        )\n",
    "        data_dict = wiff_reader.load_sample(self.sample_id,\n",
    "            centroid = self.centroided,\n",
    "            centroid_mz_tol = self.centroid_mz_tol,\n",
    "            ignore_empty_scans=self.ignore_empty_scans,\n",
    "            keep_k_peaks=self.keep_k_peaks_per_spec,\n",
    "        )\n",
    "        self.creation_time = wiff_reader.wiffSample.Details.AcquisitionDateTime.ToString(\"O\")\n",
    "        wiff_reader.close()\n",
    "        return data_dict\n",
    "    \n",
    "    def _set_dataframes(self, raw_data:dict):\n",
    "        self.create_spectrum_df(len(raw_data['rt']))\n",
    "        self.set_peaks_by_cat_array(\n",
    "            raw_data['peak_mz'],\n",
    "            raw_data['peak_intensity'],\n",
    "            raw_data['peak_indices'][:-1],\n",
    "            raw_data['peak_indices'][1:],\n",
    "        )\n",
    "        self.peak_df['peak_start_mz'] = raw_data['peak_start_mz']\n",
    "        self.peak_df['peak_end_mz'] = raw_data['peak_end_mz']\n",
    "        self.add_column_in_spec_df(\n",
    "            'rt', raw_data['rt']\n",
    "        )\n",
    "        self.add_column_in_spec_df(\n",
    "            'ms_level', raw_data['ms_level'],\n",
    "            dtype=np.int8\n",
    "        )\n",
    "        self.set_precursor_mz(\n",
    "            raw_data['precursor_mz']\n",
    "        )\n",
    "        self.add_column_in_spec_df(\n",
    "            'charge', raw_data['precursor_charge'],\n",
    "            dtype=np.int8\n",
    "        )\n",
    "        self.set_precursor_mz_windows(\n",
    "            raw_data['precursor_mz_lower'],\n",
    "            raw_data['precursor_mz_upper'],\n",
    "        )\n",
    "        self.add_column_in_spec_df(\n",
    "            'experiment_id', raw_data['experiment_id'],\n",
    "            dtype=np.int32\n",
    "        )\n",
    "        self.add_column_in_spec_df(\n",
    "            'cycle_id', raw_data['cycle_id'],\n",
    "            dtype=np.int32\n",
    "        )\n",
    "\n",
    "ms_reader_provider.register_reader('sciex', SciexWiffData)\n",
    "ms_reader_provider.register_reader('sciex_wiff', SciexWiffData)\n",
    "ms_reader_provider.register_reader('sciex-wiff', SciexWiffData)"
   ]
  },
  {
   "cell_type": "code",
   "execution_count": null,
   "metadata": {},
   "outputs": [],
   "source": []
  }
 ],
 "metadata": {
  "kernelspec": {
   "display_name": "Python 3.8.3 ('base')",
   "language": "python",
   "name": "python3"
  }
 },
 "nbformat": 4,
 "nbformat_minor": 2
}
