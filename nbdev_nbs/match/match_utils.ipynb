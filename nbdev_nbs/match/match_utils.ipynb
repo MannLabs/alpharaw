{
 "cells": [
  {
   "cell_type": "code",
   "execution_count": null,
   "metadata": {},
   "outputs": [],
   "source": [
    "#---#| default_exp match.match_utils"
   ]
  },
  {
   "cell_type": "markdown",
   "metadata": {},
   "source": [
    "# PSM Match functionalities"
   ]
  },
  {
   "cell_type": "code",
   "execution_count": null,
   "metadata": {},
   "outputs": [],
   "source": [
    "from alpharaw.match.match_utils import *\n",
    "import numpy as np"
   ]
  },
  {
   "cell_type": "code",
   "execution_count": null,
   "metadata": {},
   "outputs": [
    {
     "name": "stdout",
     "output_type": "stream",
     "text": [
      "[-1  0  2  4 -1] [-1  1  3  4 -1]\n"
     ]
    }
   ],
   "source": [
    "#| hide\n",
    "spec_masses = np.array([100, 100.1, 199.9, 200.1, 300])\n",
    "query_masses = np.array([10,100.0, 200, 300, 400])\n",
    "Da_tols = np.ones_like(query_masses)*0.2\n",
    "first_indices, last_indices = match_profile_peaks(\n",
    "    spec_masses, 0, query_masses, Da_tols,\n",
    ")\n",
    "print(first_indices, last_indices)\n",
    "assert np.all(first_indices==[-1, 0,  2,  4, -1])\n",
    "assert np.all(last_indices==[-1, 1,  3,  4, -1])"
   ]
  },
  {
   "cell_type": "code",
   "execution_count": null,
   "metadata": {},
   "outputs": [],
   "source": [
    "#| hide\n",
    "#unittests\n",
    "spec_masses = np.arange(10, dtype=float)*100\n",
    "query_masses = spec_masses\n",
    "Da_tols = query_masses*20*1e-6\n",
    "idxes = match_closest_peaks(spec_masses, 0, query_masses, Da_tols)\n",
    "assert np.all(\n",
    "    np.arange(10, dtype=np.int32)==\n",
    "    idxes\n",
    ")"
   ]
  },
  {
   "cell_type": "code",
   "execution_count": null,
   "metadata": {},
   "outputs": [],
   "source": [
    "#| hide\n",
    "#unittests\n",
    "spec_masses = np.arange(10, dtype=float)*100\n",
    "query_masses = spec_masses[:5]\n",
    "Da_tols = query_masses*20*1e-6\n",
    "spec_intens = np.ones_like(spec_masses)\n",
    "idxes = match_highest_peaks(spec_masses, spec_intens, query_masses, Da_tols)\n",
    "assert np.all(\n",
    "    np.arange(5, dtype=np.int32)==\n",
    "    idxes\n",
    ")"
   ]
  },
  {
   "cell_type": "code",
   "execution_count": null,
   "metadata": {},
   "outputs": [],
   "source": [
    "#| hide\n",
    "#unittests\n",
    "spec_masses = np.arange(10, dtype=float)*100\n",
    "query_masses = spec_masses.copy()[:5]\n",
    "query_masses[1]+=0.01 # -1\n",
    "query_masses[3]+=0.003 # spec_masses[3]\n",
    "query_masses[5]-=0.0099 # spec_masses[5]\n",
    "query_masses[6]+=0.02 #-1\n",
    "spec_masses[7] = spec_masses[8]-0.007 # matched[7] = -1\n",
    "spec_masses[8] += 0.01 # matched[8] = 7 as 7 is closer\n",
    "Da_tols = query_masses*20*1e-6\n",
    "assert np.allclose(\n",
    "    match_closest_peaks(spec_masses, 0, query_masses, Da_tols),\n",
    "    [0, -1,  2,  3,  4]\n",
    ")"
   ]
  },
  {
   "cell_type": "code",
   "execution_count": null,
   "metadata": {},
   "outputs": [],
   "source": [
    "#| hide\n",
    "#unittests\n",
    "spec_masses = np.arange(10, dtype=float)*100\n",
    "query_masses = np.arange(20).reshape((10,2))[:5]*100\n",
    "Da_tols = query_masses*20*1e-6\n",
    "target = np.arange(20, dtype=np.int32).reshape((10,2))[:5]\n",
    "target[10:] = -1\n",
    "assert np.allclose(\n",
    "    target,\n",
    "    match_closest_peaks(spec_masses, 0, query_masses, Da_tols)\n",
    ")"
   ]
  },
  {
   "cell_type": "code",
   "execution_count": null,
   "metadata": {},
   "outputs": [],
   "source": []
  }
 ],
 "metadata": {
  "kernelspec": {
   "display_name": "Python 3.8.3 ('base')",
   "language": "python",
   "name": "python3"
  }
 },
 "nbformat": 4,
 "nbformat_minor": 2
}
